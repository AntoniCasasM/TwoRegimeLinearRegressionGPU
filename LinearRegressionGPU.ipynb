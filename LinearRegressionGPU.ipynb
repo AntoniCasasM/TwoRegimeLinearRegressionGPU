{
 "cells": [
  {
   "cell_type": "code",
   "execution_count": 1,
   "metadata": {},
   "outputs": [],
   "source": [
    "\n",
    "import pycuda.driver as cuda\n",
    "import pycuda.autoinit\n",
    "from pycuda.compiler import SourceModule\n",
    "import numpy\n",
    "\n",
    "\n",
    "class LinearRegression2GPU():\n",
    "    \n",
    "    def __init__(self,squaredError=True):\n",
    "        mod = SourceModule(\"\"\"\n",
    "  \n",
    "  \n",
    "  __global__ void linearRegression(float *ssxy, float* ssxx,float *x, float *y,float xMean1,float yMean1,float xMean2,float yMean2, unsigned int limit,unsigned int midway)\n",
    "  {\n",
    "    unsigned int idx = blockIdx.x * blockDim.x + threadIdx.x;\n",
    "    if (idx<limit) {\n",
    "        if (idx<midway) {\n",
    "            float xx=x[idx]-xMean1;\n",
    "            float yy=y[idx]-yMean1;\n",
    "            ssxx[idx]=xx*xx;\n",
    "            ssxy[idx]=xx*yy;    \n",
    "        }\n",
    "        else {\n",
    "            float xx=x[idx]-xMean2;\n",
    "            float yy=y[idx]-yMean2;\n",
    "            ssxx[idx]=xx*xx;\n",
    "            ssxy[idx]=xx*yy;    \n",
    "        }\n",
    "\n",
    "    }\n",
    "  }\n",
    "\n",
    "  \n",
    "  __global__ void distanceToFit(float *distances,unsigned int *x, float* y,float a1, float b1,float a2,float b2,unsigned int limit,unsigned int midway)\n",
    "  {\n",
    "    unsigned int idx = blockIdx.x * blockDim.x + threadIdx.x;\n",
    "    if (idx<limit) {\n",
    "        if (idx<midway) distances[idx]=fabsf((x[idx]*b1+a1)-y[idx]);\n",
    "        else distances[idx]=fabsf((x[idx]*b2+a2)-y[idx]);\n",
    "    }\n",
    "  }\n",
    "\n",
    "  __global__ void squaredError(float *distances,unsigned int *x, float* y,float a1, float b1,float a2,float b2,unsigned int limit,unsigned int midway)\n",
    "  {\n",
    "    unsigned int idx = blockIdx.x * blockDim.x + threadIdx.x;\n",
    "    if (idx<limit) {\n",
    "        if (idx<midway){\n",
    "        float dist=(x[idx]*b1+a1)-y[idx];\n",
    "         distances[idx]=dist*dist;\n",
    "        }\n",
    "        else {\n",
    "        float dist=(x[idx]*b2+a2)-y[idx];\n",
    "        distances[idx]=dist*dist;\n",
    "        }\n",
    "    }\n",
    "  }\n",
    "\n",
    "  \n",
    "  \"\"\")\n",
    "        self.distanceToPlot=None\n",
    "        self.linearRegressionGPU=mod.get_function(\"linearRegression\")\n",
    "        if (squaredError):\n",
    "            self.error=mod.get_function(\"squaredError\")\n",
    "        else:\n",
    "            self.error=mod.get_function(\"distanceToFit\")\n",
    "        self.lowestDistance=None\n",
    "        self.bestCutoff=None\n",
    "        self.fits=None\n",
    "        \n",
    "        \n",
    "        \n",
    "    def fit(self, x, y):    \n",
    "        elements=len(x)\n",
    "\n",
    "        x = numpy.ascontiguousarray(x.astype(numpy.float32))\n",
    "        y = numpy.ascontiguousarray(y.astype(numpy.float32))\n",
    "\n",
    "        x_gpu = cuda.mem_alloc(x.nbytes)\n",
    "        y_gpu = cuda.mem_alloc(y.nbytes)\n",
    "\n",
    "        cuda.memcpy_htod(x_gpu, x)\n",
    "        cuda.memcpy_htod(y_gpu, y)\n",
    "\n",
    "        ssxy = numpy.empty_like(x)\n",
    "        ssxx = numpy.empty_like(x)\n",
    "\n",
    "        ssxy_gpu = cuda.mem_alloc(ssxy.nbytes)\n",
    "        ssxx_gpu = cuda.mem_alloc(ssxx.nbytes)\n",
    "\n",
    "        distances_gpu = cuda.mem_alloc(x.nbytes)\n",
    "        distances=numpy.empty_like(x)\n",
    "\n",
    "        grid = ((elements//512)+1, 1)\n",
    "        block = (512, 1, 1)\n",
    "        self.linearRegressionGPU.prepare((\"P\",\"P\",\"P\",\"P\",\"f\",\"f\",\"f\",\"f\",\"I\",\"I\"))\n",
    "        self.error.prepare((\"P\",\"P\",\"P\",\"f\",\"f\",\"f\",\"f\",\"I\",\"I\"))\n",
    "\n",
    "\n",
    "        self.distanceToPlot=[]\n",
    "        for i in range(2,elements-2):\n",
    "            midway=i\n",
    "\n",
    "            xmean1=numpy.float32(numpy.mean(x[0:midway]))\n",
    "            ymean1=numpy.float32(numpy.mean(y[0:midway]))\n",
    "            xmean2=numpy.float32(numpy.mean(x[midway:]))\n",
    "            ymean2=numpy.float32(numpy.mean(y[midway:]))\n",
    "\n",
    "\n",
    "            self.linearRegressionGPU.prepared_call(grid, block, ssxy_gpu, ssxx_gpu ,x_gpu,y_gpu,xmean1,ymean1,xmean2,ymean2,elements,midway)\n",
    "\n",
    "\n",
    "            cuda.memcpy_dtoh(ssxy, ssxy_gpu)\n",
    "            cuda.memcpy_dtoh(ssxx, ssxx_gpu)\n",
    "\n",
    "\n",
    "            slope1=numpy.sum(ssxy[:midway])/numpy.sum(ssxx[:midway])\n",
    "            intercept1=ymean1-slope1*xmean1\n",
    "\n",
    "            slope2=numpy.sum(ssxy[midway:])/numpy.sum(ssxx[midway:])\n",
    "            intercept2=ymean2-slope2*xmean2\n",
    "\n",
    "\n",
    "            self.error.prepared_call(grid, block, distances_gpu, x_gpu ,y_gpu,intercept1,slope1,intercept2,slope2,elements,midway)\n",
    "\n",
    "            cuda.memcpy_dtoh(distances, distances_gpu)\n",
    "\n",
    "            distance=numpy.sum(distances)\n",
    "            self.distanceToPlot.append(distance)\n",
    "            if self.lowestDistance is None:\n",
    "                self.lowestDistance=distance\n",
    "                self.fits=((slope1,intercept1),(slope2,intercept2))\n",
    "                self.bestCutoff=midway\n",
    "            elif distance<self.lowestDistance:\n",
    "                self.lowestDistance=distance\n",
    "                self.fits=((slope1,intercept1),(slope2,intercept2))\n",
    "                self.bestCutoff=midway\n",
    "\n",
    "\n",
    "                \n",
    "\n",
    "\n"
   ]
  },
  {
   "cell_type": "markdown",
   "metadata": {},
   "source": [
    "Class to obtain the 2 regimes"
   ]
  },
  {
   "cell_type": "code",
   "execution_count": 2,
   "metadata": {},
   "outputs": [],
   "source": [
    "import collections\n",
    "\n",
    "with open('Alice.txt', 'r') as file:\n",
    "    data = file.read().split()\n",
    "\n",
    "y = data\n",
    "c = collections.Counter(y)\n",
    "x=numpy.array(range(1,len(c)+1))\n",
    "y=[]\n",
    "for key in c:\n",
    "    y.append(c[key])\n",
    "y.sort(reverse=True)\n",
    "y=numpy.array(y)\n",
    "xToFit=numpy.log(x)\n",
    "yToFit=numpy.log(y)\n"
   ]
  },
  {
   "cell_type": "markdown",
   "metadata": {},
   "source": [
    "Turn file into zipf distribution"
   ]
  },
  {
   "cell_type": "code",
   "execution_count": 3,
   "metadata": {
    "scrolled": true
   },
   "outputs": [
    {
     "name": "stdout",
     "output_type": "stream",
     "text": [
      "2.6233997e+21\n",
      "2269\n",
      "((-0.9859226, 8.104928), (-0.05733886, 0.48323816))\n"
     ]
    }
   ],
   "source": [
    "\n",
    "logisticRegressor=LinearRegression2GPU() \n",
    "\n",
    "logisticRegressor.fit(xToFit,yToFit) \n",
    "\n",
    "print(logisticRegressor.lowestDistance)\n",
    "print(logisticRegressor.bestCutoff)\n",
    "print(logisticRegressor.fits)\n"
   ]
  },
  {
   "cell_type": "markdown",
   "metadata": {},
   "source": [
    "Fit to distribution and find point where first regime ends and second regime begins"
   ]
  },
  {
   "cell_type": "code",
   "execution_count": 4,
   "metadata": {},
   "outputs": [
    {
     "data": {
      "image/png": "[encoded data removed]",
      "text/plain": [
       "<Figure size 432x288 with 1 Axes>"
      ]
     },
     "metadata": {
      "needs_background": "light"
     },
     "output_type": "display_data"
    }
   ],
   "source": [
    "import matplotlib.pyplot as plt\n",
    "\n",
    "x2 = numpy.linspace(1,logisticRegressor.bestCutoff,logisticRegressor.bestCutoff)\n",
    "x2=-numpy.sort(-x2)\n",
    "x2=numpy.log(x2)\n",
    "y2 = x2*logisticRegressor.fits[0][0]+logisticRegressor.fits[0][1]\n",
    "\n",
    "x3 = numpy.linspace(logisticRegressor.bestCutoff,len(x)+1,len(x)+1)\n",
    "x3=-numpy.sort(-x3)\n",
    "x3=numpy.log(x3)\n",
    "y3 = x3*logisticRegressor.fits[1][0]+logisticRegressor.fits[1][1]\n",
    "\n",
    "\n",
    "plt.loglog(x,y, color='r')\n",
    "plt.loglog(numpy.exp(x2),numpy.exp(y2),color='g')\n",
    "\n",
    "plt.loglog(numpy.exp(x3),numpy.exp(y3),color='b')\n",
    "\n",
    "plt.show()"
   ]
  },
  {
   "cell_type": "markdown",
   "metadata": {},
   "source": [
    "Plot both regimes on top of the zipf distribution"
   ]
  },
  {
   "cell_type": "code",
   "execution_count": 5,
   "metadata": {},
   "outputs": [
    {
     "data": {
      "image/png": "[encoded data removed]",
      "text/plain": [
       "<Figure size 432x288 with 1 Axes>"
      ]
     },
     "metadata": {
      "needs_background": "light"
     },
     "output_type": "display_data"
    }
   ],
   "source": [
    "import matplotlib.pyplot as plt\n",
    "\n",
    "x4 = range(2,len(x)-2)\n",
    "y4 = logisticRegressor.distanceToPlot\n",
    "\n",
    "plt.plot(x4, y4)\n",
    "\n",
    "plt.show()"
   ]
  },
  {
   "cell_type": "markdown",
   "metadata": {},
   "source": [
    "Plot the distances obtained in each of the points observed as the point of regime change"
   ]
  }
 ],
 "metadata": {
  "kernelspec": {
   "display_name": "Python 3",
   "language": "python",
   "name": "python3"
  },
  "language_info": {
   "codemirror_mode": {
    "name": "ipython",
    "version": 3
   },
   "file_extension": ".py",
   "mimetype": "text/x-python",
   "name": "python",
   "nbconvert_exporter": "python",
   "pygments_lexer": "ipython3",
   "version": "3.8.2"
  }
 },
 "nbformat": 4,
 "nbformat_minor": 4
}
